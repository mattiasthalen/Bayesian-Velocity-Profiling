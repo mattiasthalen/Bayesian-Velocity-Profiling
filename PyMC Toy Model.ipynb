{
 "cells": [
  {
   "cell_type": "code",
   "execution_count": null,
   "metadata": {},
   "outputs": [],
   "source": [
    "import pymc as pm\n",
    "import arviz as az\n",
    "import numpy as np\n",
    "import pandas as pd\n",
    "import matplotlib.pyplot as plt\n",
    "\n",
    "n_groups = 3\n",
    "group_intercept = 0.0 + np.random.normal(0, 0.1, n_groups)\n",
    "group_trend = 1.0 + np.random.normal(0, 0.1, n_groups)\n",
    "\n",
    "\n",
    "x = np.linspace(-1, 1, 11)\n",
    "\n",
    "df = pd.DataFrame()\n",
    "\n",
    "for i in np.arange(n_groups):\n",
    "    y_mu = group_intercept[i] - group_trend[i]*x\n",
    "    y = np.random.normal(y_mu, 0.01)\n",
    "\n",
    "    new_df = pd.DataFrame({'x': x, 'y': y, 'group': i})\n",
    "\n",
    "    df = pd.concat([df, new_df], ignore_index = True)\n",
    "\n",
    "df['observation'] = np.arange(len(df))"
   ]
  },
  {
   "cell_type": "code",
   "execution_count": 53,
   "metadata": {},
   "outputs": [
    {
     "name": "stdout",
     "output_type": "stream",
     "text": [
      "Sample posterior...\n"
     ]
    },
    {
     "name": "stderr",
     "output_type": "stream",
     "text": [
      "Auto-assigning NUTS sampler...\n",
      "Initializing NUTS using jitter+adapt_diag...\n",
      "Multiprocess sampling (4 chains in 4 jobs)\n",
      "NUTS: [intercept, trend, error, group_intercept, group_trend]\n"
     ]
    },
    {
     "data": {
      "text/html": [
       "\n",
       "    <div>\n",
       "        <style>\n",
       "            /* Turns off some styling */\n",
       "            progress {\n",
       "                /* gets rid of default border in Firefox and Opera. */\n",
       "                border: none;\n",
       "                /* Needs to be in here for Safari polyfill so background images work as expected. */\n",
       "                background-size: auto;\n",
       "            }\n",
       "            .progress-bar-interrupted, .progress-bar-interrupted::-webkit-progress-bar {\n",
       "                background: #F44336;\n",
       "            }\n",
       "        </style>\n",
       "      <progress value='8000' class='' max='8000' style='width:300px; height:20px; vertical-align: middle;'></progress>\n",
       "      100.00% [8000/8000 00:07<00:00 Sampling 4 chains, 0 divergences]\n",
       "    </div>\n",
       "    "
      ],
      "text/plain": [
       "<IPython.core.display.HTML object>"
      ]
     },
     "metadata": {},
     "output_type": "display_data"
    },
    {
     "name": "stderr",
     "output_type": "stream",
     "text": [
      "Sampling 4 chains for 1_000 tune and 1_000 draw iterations (4_000 + 4_000 draws total) took 8 seconds.\n",
      "Sampling: [error, group_intercept, group_trend, intercept, likelihood, trend]\n"
     ]
    },
    {
     "name": "stdout",
     "output_type": "stream",
     "text": [
      "Sample prior predictive...\n",
      "Sample posterior predictive...\n"
     ]
    },
    {
     "name": "stderr",
     "output_type": "stream",
     "text": [
      "Sampling: [likelihood]\n"
     ]
    },
    {
     "data": {
      "text/html": [
       "\n",
       "    <div>\n",
       "        <style>\n",
       "            /* Turns off some styling */\n",
       "            progress {\n",
       "                /* gets rid of default border in Firefox and Opera. */\n",
       "                border: none;\n",
       "                /* Needs to be in here for Safari polyfill so background images work as expected. */\n",
       "                background-size: auto;\n",
       "            }\n",
       "            .progress-bar-interrupted, .progress-bar-interrupted::-webkit-progress-bar {\n",
       "                background: #F44336;\n",
       "            }\n",
       "        </style>\n",
       "      <progress value='4000' class='' max='4000' style='width:300px; height:20px; vertical-align: middle;'></progress>\n",
       "      100.00% [4000/4000 00:00<00:00]\n",
       "    </div>\n",
       "    "
      ],
      "text/plain": [
       "<IPython.core.display.HTML object>"
      ]
     },
     "metadata": {},
     "output_type": "display_data"
    }
   ],
   "source": [
    "with pm.Model() as model:\n",
    "    model.add_coord('group', df['group'].unique(), mutable = True)\n",
    "    model.add_coord('observation', df['observation'], mutable = True)\n",
    "\n",
    "    x = pm.MutableData('x', df['x'], dims = 'observation')\n",
    "    y = pm.MutableData('y', df['y'], dims = 'observation')\n",
    "    group_idx = pm.MutableData('group_idx', df['group'], dims = 'observation')\n",
    "\n",
    "    intercept = pm.Normal('intercept', 0.0, 1.0)\n",
    "    trend = pm.HalfNormal('trend', 1.0)\n",
    "    error = pm.HalfNormal('error', 1.0)\n",
    "    \n",
    "    group_intercept = pm.Normal('group_intercept', intercept, 1.0, dims = 'group')\n",
    "    group_trend = pm.HalfNormal('group_trend', trend, dims = 'group')\n",
    "    \n",
    "    mu = pm.Deterministic('mu', group_intercept[group_idx] - group_trend[group_idx]*x, dims = 'observation')\n",
    "\n",
    "    likelihood = pm.Normal('likelihood', mu, error, observed = y, dims = 'observation')\n",
    "\n",
    "    print('Sample posterior...')\n",
    "    inference_data = pm.sample()\n",
    "\n",
    "    print('Sample prior predictive...')\n",
    "    inference_data.extend(pm.sample_prior_predictive())\n",
    "\n",
    "    print('Sample posterior predictive...')\n",
    "    inference_data.extend(pm.sample_posterior_predictive(inference_data))"
   ]
  },
  {
   "cell_type": "code",
   "execution_count": 44,
   "metadata": {},
   "outputs": [
    {
     "name": "stderr",
     "output_type": "stream",
     "text": [
      "Sampling: [likelihood]\n"
     ]
    },
    {
     "data": {
      "text/html": [
       "\n",
       "    <div>\n",
       "        <style>\n",
       "            /* Turns off some styling */\n",
       "            progress {\n",
       "                /* gets rid of default border in Firefox and Opera. */\n",
       "                border: none;\n",
       "                /* Needs to be in here for Safari polyfill so background images work as expected. */\n",
       "                background-size: auto;\n",
       "            }\n",
       "            .progress-bar-interrupted, .progress-bar-interrupted::-webkit-progress-bar {\n",
       "                background: #F44336;\n",
       "            }\n",
       "        </style>\n",
       "      <progress value='4000' class='' max='4000' style='width:300px; height:20px; vertical-align: middle;'></progress>\n",
       "      100.00% [4000/4000 00:00<00:00]\n",
       "    </div>\n",
       "    "
      ],
      "text/plain": [
       "<IPython.core.display.HTML object>"
      ]
     },
     "metadata": {},
     "output_type": "display_data"
    }
   ],
   "source": [
    "new_x = np.array([-2.0, 2.0])\n",
    "new_group_idx = np.full_like(new_x, df['group'].max()).astype(int)\n",
    "new_observation = df['observation'].max() + np.arange(len(new_x)) + 1\n",
    "\n",
    "with model:\n",
    "    pm.set_data(new_data = {'x': new_x,\n",
    "                            'group_idx': new_group_idx},\n",
    "                coords = {'observation': new_observation})\n",
    "    \n",
    "    pred_inference_data = pm.sample_posterior_predictive(inference_data, return_inferencedata = False, predictions = True)"
   ]
  },
  {
   "cell_type": "code",
   "execution_count": 51,
   "metadata": {},
   "outputs": [
    {
     "data": {
      "text/plain": [
       "array([ 2.31704926, -2.23234269])"
      ]
     },
     "execution_count": 51,
     "metadata": {},
     "output_type": "execute_result"
    }
   ],
   "source": [
    "pred_inference_data['likelihood'].mean(axis = 0)"
   ]
  }
 ],
 "metadata": {
  "kernelspec": {
   "display_name": "Python 3.10.4 ('pymc')",
   "language": "python",
   "name": "python3"
  },
  "language_info": {
   "codemirror_mode": {
    "name": "ipython",
    "version": 3
   },
   "file_extension": ".py",
   "mimetype": "text/x-python",
   "name": "python",
   "nbconvert_exporter": "python",
   "pygments_lexer": "ipython3",
   "version": "3.10.4"
  },
  "orig_nbformat": 4,
  "vscode": {
   "interpreter": {
    "hash": "521200a42f1e3cc0bb9d6c6989dab00a2fa3b637e53f8e21b047a15fcd0cb821"
   }
  }
 },
 "nbformat": 4,
 "nbformat_minor": 2
}
